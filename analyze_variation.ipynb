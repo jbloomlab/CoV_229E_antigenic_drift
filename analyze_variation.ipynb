{
 "cells": [
  {
   "cell_type": "markdown",
   "metadata": {},
   "source": [
    "# Analyze variation in Spike with respect to protein domains and structure\n",
    "This Python Jupyter notebook analyzes variation in Spike from the same proteins used the build the phylogenetic tree.\n",
    "The statistics (site entropy and number of effective amino acids) is computed on the same protein set used for the tree, weight each sequence equally.\n",
    "Note that this may slightly bias the results towards more recent sequences as there are more of them."
   ]
  },
  {
   "cell_type": "markdown",
   "metadata": {},
   "source": [
    "## Imports and configuration\n",
    "Import modules and read configuration file:"
   ]
  },
  {
   "cell_type": "code",
   "execution_count": 1,
   "metadata": {},
   "outputs": [],
   "source": [
    "import os\n",
    "\n",
    "import Bio.SeqIO\n",
    "\n",
    "import dna_features_viewer\n",
    "\n",
    "from IPython.display import display, HTML\n",
    "\n",
    "import matplotlib\n",
    "import matplotlib.pyplot as plt\n",
    "\n",
    "import pandas as pd\n",
    "\n",
    "import pdb_prot_align.main\n",
    "\n",
    "import yaml"
   ]
  },
  {
   "cell_type": "markdown",
   "metadata": {},
   "source": [
    "Read configuration:"
   ]
  },
  {
   "cell_type": "code",
   "execution_count": 2,
   "metadata": {},
   "outputs": [],
   "source": [
    "with open('config.yaml') as f:\n",
    "    config = yaml.safe_load(f)"
   ]
  },
  {
   "cell_type": "markdown",
   "metadata": {},
   "source": [
    "Make output directory:"
   ]
  },
  {
   "cell_type": "code",
   "execution_count": 3,
   "metadata": {},
   "outputs": [],
   "source": [
    "os.makedirs(config['variation_analysis_dir'], exist_ok=True)"
   ]
  },
  {
   "cell_type": "markdown",
   "metadata": {},
   "source": [
    "## Align Spikes with PDB and domain annotations and compute site variability\n",
    "We want to compute the sequence variability in the alignment in a numbering system that corresponds to that in the PDB and the domain-annotated Spike so that we can map this variability to domains and the structure.\n",
    "\n",
    "First, get the PDB file we are using:"
   ]
  },
  {
   "cell_type": "code",
   "execution_count": 4,
   "metadata": {},
   "outputs": [
    {
     "name": "stdout",
     "output_type": "stream",
     "text": [
      "Using PDB file results/pdbs/6u7h.pdb.\n"
     ]
    }
   ],
   "source": [
    "pdbfile = os.path.join(config['pdb_dir'], f\"{config['pdb_id']}.pdb\")\n",
    "print(f\"Using PDB file {pdbfile}.\")\n",
    "assert os.path.isfile(pdbfile)"
   ]
  },
  {
   "cell_type": "markdown",
   "metadata": {},
   "source": [
    "Next, read in the domain annotated Spike that we use as a \"reference protein\" for numbering sites when doing the analysis:"
   ]
  },
  {
   "cell_type": "code",
   "execution_count": 5,
   "metadata": {},
   "outputs": [
    {
     "name": "stdout",
     "output_type": "stream",
     "text": [
      "Reading domain-annotated Spike from data/AAK32191_hand_annotated.gp\n"
     ]
    }
   ],
   "source": [
    "print(f\"Reading domain-annotated Spike from {config['domain_annotated_spike']}\")\n",
    "\n",
    "domain_annotated = Bio.SeqIO.read(config['domain_annotated_spike'], 'genbank')"
   ]
  },
  {
   "cell_type": "markdown",
   "metadata": {},
   "source": [
    "Now write a file that includes this reference plus all the other proteins used in our tree inference:"
   ]
  },
  {
   "cell_type": "code",
   "execution_count": 6,
   "metadata": {},
   "outputs": [
    {
     "name": "stdout",
     "output_type": "stream",
     "text": [
      "Reading other Spikes from results/spikes_unaligned_prot.fasta, adding reference, and writing to results/variation_analysis/prots_plus_ref.fasta.\n"
     ]
    }
   ],
   "source": [
    "prots_plus_ref = os.path.join(config['variation_analysis_dir'], 'prots_plus_ref.fasta')\n",
    "\n",
    "print(f\"Reading other Spikes from {config['spikes_unaligned_prot']}, adding reference, \"\n",
    "      f\"and writing to {prots_plus_ref}.\")\n",
    "\n",
    "_ = Bio.SeqIO.write(\n",
    "        [domain_annotated, *list(Bio.SeqIO.parse(config['spikes_unaligned_prot'], 'fasta'))],\n",
    "        prots_plus_ref,\n",
    "        'fasta')"
   ]
  },
  {
   "cell_type": "markdown",
   "metadata": {},
   "source": [
    "Use [pdb_prot_align](https://jbloomlab.github.io/pdb_prot_align/pdb_prot_align.main.html) to align the Spikes to the PDB and calculate measures of variability (entropy and number of effective amino acids).\n",
    "Note that we do **not** include the PDB chains or the reference protein in the calculation of variability metrics:"
   ]
  },
  {
   "cell_type": "code",
   "execution_count": 7,
   "metadata": {},
   "outputs": [
    {
     "name": "stdout",
     "output_type": "stream",
     "text": [
      "\n",
      "Running `pdb_prot_align` 0.5.0\n",
      "\n",
      "Parsing PDB results/pdbs/6u7h.pdb chains A B C\n",
      "For chain A, parsed 965 residues, ranging from 37 to 1033 in PDB numbering.\n",
      "For chain B, parsed 965 residues, ranging from 37 to 1033 in PDB numbering.\n",
      "For chain C, parsed 965 residues, ranging from 37 to 1033 in PDB numbering.\n",
      "\n",
      "Read 58 sequences from results/variation_analysis/prots_plus_ref.fasta\n",
      "Reference protein is of length 1173 and has the following header:\n",
      "AAK32191.1 spike glycoprotein [Human coronavirus 229E]\n",
      "\n",
      "Using `mafft` to align sequences to results/variation_analysis/unstripped_alignment.fa\n",
      "Stripping gaps relative to reference AAK32191.1 spike glycoprotein [Human coronavirus 229E]\n",
      "Dropping PDB chains from alignment\n",
      "Dropping reference protein from alignment\n",
      "Writing gap-stripped alignment to results/variation_analysis/alignment.fa\n",
      "\n",
      "Writing CSV with detailed information to results/variation_analysis/sites.csv\n",
      "\n",
      "Program complete.\n",
      "\n"
     ]
    }
   ],
   "source": [
    "pdb_prot_align.main.run(protsfile=prots_plus_ref,\n",
    "                        refprot_regex=domain_annotated.id,\n",
    "                        pdbfile=pdbfile,\n",
    "                        chain_ids=config['pdb_chains'],\n",
    "                        outprefix=f\"{config['variation_analysis_dir']}/\",\n",
    "                        ignore_gaps=False,\n",
    "                        drop_pdb=True,\n",
    "                        drop_refprot=True,\n",
    "                        )"
   ]
  },
  {
   "cell_type": "markdown",
   "metadata": {},
   "source": [
    "Read the data frame with the sequence variability information for each site, then re-name the columns to make it compatible with [dms-view](https://dms-view.github.io/docs/).\n",
    "As shown below, there are two measures of variability: number of effective amino acids per site, and site entropy.\n",
    "Also write a [dms-view](https://dms-view.github.io/docs/) metadata file:"
   ]
  },
  {
   "cell_type": "code",
   "execution_count": 8,
   "metadata": {},
   "outputs": [
    {
     "name": "stdout",
     "output_type": "stream",
     "text": [
      "Reading information on site variability from results/variation_analysis/sites.csv\n",
      "Here are first few lines:\n"
     ]
    },
    {
     "data": {
      "text/html": [
       "<table border=\"1\" class=\"dataframe\">\n",
       "  <thead>\n",
       "    <tr style=\"text-align: right;\">\n",
       "      <th>site</th>\n",
       "      <th>label_site</th>\n",
       "      <th>wildtype</th>\n",
       "      <th>mutation</th>\n",
       "      <th>condition</th>\n",
       "      <th>protein_chain</th>\n",
       "      <th>protein_site</th>\n",
       "      <th>site_n_effective_amino_acids</th>\n",
       "      <th>site_entropy</th>\n",
       "      <th>mut_aa_frequency</th>\n",
       "    </tr>\n",
       "  </thead>\n",
       "  <tbody>\n",
       "    <tr>\n",
       "      <td>1</td>\n",
       "      <td>1</td>\n",
       "      <td>M</td>\n",
       "      <td>-</td>\n",
       "      <td>229E_alignment</td>\n",
       "      <td>A B C</td>\n",
       "      <td>NaN</td>\n",
       "      <td>1.0</td>\n",
       "      <td>0.0</td>\n",
       "      <td>0.0</td>\n",
       "    </tr>\n",
       "    <tr>\n",
       "      <td>1</td>\n",
       "      <td>1</td>\n",
       "      <td>M</td>\n",
       "      <td>A</td>\n",
       "      <td>229E_alignment</td>\n",
       "      <td>A B C</td>\n",
       "      <td>NaN</td>\n",
       "      <td>1.0</td>\n",
       "      <td>0.0</td>\n",
       "      <td>0.0</td>\n",
       "    </tr>\n",
       "    <tr>\n",
       "      <td>1</td>\n",
       "      <td>1</td>\n",
       "      <td>M</td>\n",
       "      <td>C</td>\n",
       "      <td>229E_alignment</td>\n",
       "      <td>A B C</td>\n",
       "      <td>NaN</td>\n",
       "      <td>1.0</td>\n",
       "      <td>0.0</td>\n",
       "      <td>0.0</td>\n",
       "    </tr>\n",
       "    <tr>\n",
       "      <td>1</td>\n",
       "      <td>1</td>\n",
       "      <td>M</td>\n",
       "      <td>D</td>\n",
       "      <td>229E_alignment</td>\n",
       "      <td>A B C</td>\n",
       "      <td>NaN</td>\n",
       "      <td>1.0</td>\n",
       "      <td>0.0</td>\n",
       "      <td>0.0</td>\n",
       "    </tr>\n",
       "    <tr>\n",
       "      <td>1</td>\n",
       "      <td>1</td>\n",
       "      <td>M</td>\n",
       "      <td>E</td>\n",
       "      <td>229E_alignment</td>\n",
       "      <td>A B C</td>\n",
       "      <td>NaN</td>\n",
       "      <td>1.0</td>\n",
       "      <td>0.0</td>\n",
       "      <td>0.0</td>\n",
       "    </tr>\n",
       "  </tbody>\n",
       "</table>"
      ],
      "text/plain": [
       "<IPython.core.display.HTML object>"
      ]
     },
     "metadata": {},
     "output_type": "display_data"
    },
    {
     "name": "stdout",
     "output_type": "stream",
     "text": [
      "\n",
      "Writing to results/variation_analysis/site_variability.csv\n",
      "\n",
      "Writing `dms-view` metadata file to results/variation_analysis/dms_view_metadata.md\n"
     ]
    }
   ],
   "source": [
    "orig_sitefile = os.path.join(config['variation_analysis_dir'], 'sites.csv')\n",
    "print(f\"Reading information on site variability from {orig_sitefile}\")\n",
    "site_variation = (\n",
    " pd.read_csv(orig_sitefile)\n",
    " .rename(columns={'isite': 'site',\n",
    "                  'amino_acid': 'mutation',\n",
    "                  'pdb_site': 'protein_site',\n",
    "                  'entropy': 'site_entropy',\n",
    "                  'n_effective': 'site_n_effective_amino_acids',\n",
    "                  'frequency': 'mut_aa_frequency',\n",
    "                  })\n",
    " .assign(label_site=lambda x: x['site'],\n",
    "         condition='229E_alignment',\n",
    "         protein_chain=' '.join(config['pdb_chains'])\n",
    "         )\n",
    " [['site', 'label_site', 'wildtype', 'mutation', 'condition', 'protein_chain', 'protein_site',\n",
    "   'site_n_effective_amino_acids', 'site_entropy', 'mut_aa_frequency']]\n",
    " )\n",
    "\n",
    "print('Here are first few lines:')\n",
    "display(HTML(site_variation.head().to_html(index=False)))\n",
    "\n",
    "print(f\"\\nWriting to {config['site_variation']}\")\n",
    "site_variation.to_csv(config['site_variation'], index=False)\n",
    "\n",
    "print(f\"\\nWriting `dms-view` metadata file to {config['dms_view_metadata']}\")\n",
    "repo_url = f\"https://github.com/jbloomlab/{os.path.basename(os.path.abspath('.'))}\"\n",
    "with open(config['dms_view_metadata'], 'w') as f:\n",
    "    f.write('## Variability in alignment of human 229E Spike proteins\\n'\n",
    "            f\"See [{repo_url}]({repo_url}) for details.\")"
   ]
  },
  {
   "cell_type": "markdown",
   "metadata": {},
   "source": [
    "We have chosen the reference to be the same protein used in the PDB, so the reference and PDB site numbers should always be equal.\n",
    "Make sure this the case:"
   ]
  },
  {
   "cell_type": "code",
   "execution_count": 9,
   "metadata": {},
   "outputs": [],
   "source": [
    "ref_and_pdb_differ = (\n",
    "    site_variation\n",
    "    .query('protein_site.notnull()')\n",
    "    .assign(ref_and_pdb_differ=lambda x: x['site'] != x['protein_site'])\n",
    "    .query('ref_and_pdb_differ')\n",
    "    )\n",
    "assert len(ref_and_pdb_differ) == 0, ref_and_pdb_differ"
   ]
  },
  {
   "cell_type": "markdown",
   "metadata": {},
   "source": [
    "## Site variability overlaid on the domain structure\n",
    "Now use [dna_features_viewer](https://edinburgh-genome-foundry.github.io/DnaFeaturesViewer/) to plot the domain structure with site variability underlaid:"
   ]
  },
  {
   "cell_type": "code",
   "execution_count": 10,
   "metadata": {},
   "outputs": [
    {
     "name": "stdout",
     "output_type": "stream",
     "text": [
      "Saving to results/variation_analysis/domain_schematic.pdf\n"
     ]
    },
    {
     "data": {
      "image/png": "[encoded data removed]",
      "text/plain": [
       "<Figure size 720x270 with 2 Axes>"
      ]
     },
     "metadata": {
      "needs_background": "light"
     },
     "output_type": "display_data"
    }
   ],
   "source": [
    "class SpikeTranslator(dna_features_viewer.BiopythonTranslator):\n",
    "    \"\"\"Custom `dna_features_viewer` translator for Spike.\"\"\"\n",
    "    \n",
    "    def compute_filtered_features(self, features):\n",
    "        return [feat for feat in features if feat.type != 'Spike']\n",
    "    \n",
    "    def compute_feature_color(self, feature):\n",
    "        if feature.type == 'S1':\n",
    "            return 'orange'\n",
    "        elif feature.type == 'NTD':\n",
    "            return 'chocolate'\n",
    "        elif feature.type == 'RBD':\n",
    "            return 'darkred'\n",
    "        elif 'loop' in feature.type:\n",
    "            return 'tab:red'\n",
    "        else:\n",
    "            return 'gold'\n",
    "        \n",
    "    def compute_feature_box_color(self, feature):\n",
    "        return 'white'\n",
    "    \n",
    "    # next two methods are hacky to get a single label for binding loops\n",
    "    def compute_feature_label(self, feature):\n",
    "        if 'loop' in feature.type:\n",
    "            if feature.type == 'binding_loop_2':\n",
    "                return 'binding loops'\n",
    "            else:\n",
    "                return None\n",
    "        else:\n",
    "            return feature.type\n",
    "        return feature.type.replace('_', ' ')\n",
    "    \n",
    "    def compute_feature_label_link_color(self, feature):\n",
    "        return 'white'\n",
    "    \n",
    "# make all feature strands positive except loops\n",
    "for feat in domain_annotated.features:\n",
    "    if 'loop' in feat.type:\n",
    "        feat.strand = None\n",
    "    else:\n",
    "        feat.strand = 1\n",
    "        \n",
    "# create plot\n",
    "matplotlib.rcParams['font.family'] = 'DejaVu Sans'\n",
    "matplotlib.rcParams['xtick.labelsize'] = 10\n",
    "matplotlib.rcParams['ytick.labelsize'] = 10\n",
    "fig, (ax_feat, ax_var) = plt.subplots(2, 1,\n",
    "                                      figsize=(10, 3.75),\n",
    "                                      sharex=True,\n",
    "                                      gridspec_kw={'height_ratios': [2, 1],\n",
    "                                                   'wspace': 0})\n",
    "\n",
    "# plot Spike features\n",
    "graphic_record = SpikeTranslator().translate_record(domain_annotated)\n",
    "_ = graphic_record.plot(with_ruler=False, ax=ax_feat)\n",
    "ax_feat.margins(y=0)\n",
    "\n",
    "# plot variability, using 0-based indexing to align and then labeling in 1-based\n",
    "variability_metric = 'site_n_effective_amino_acids'\n",
    "(site_variation\n",
    " .assign(site_0based=lambda x: x['site'] - 1)\n",
    " [['site_0based', variability_metric]]\n",
    " .drop_duplicates()\n",
    " .plot('site_0based', variability_metric, ax=ax_var, kind='area', legend=False, color='tab:blue')\n",
    " )\n",
    "ax_var.margins(y=0)\n",
    "ax_var.spines['right'].set_visible(False)\n",
    "ax_var.spines['top'].set_visible(False)\n",
    "ax_var.set_ylim(bottom=site_variation[variability_metric].min())\n",
    "ax_var.set_xlabel('residue number', fontdict={'size': 12})\n",
    "ax_var.set_ylabel('effective\\namino acids', {'size': 12})\n",
    "ax_var.xaxis.set_major_locator(matplotlib.ticker.MultipleLocator(100))\n",
    "_ = ax_var.set_xticklabels([(int(i + 1)) for i in ax_var.get_xticks()])\n",
    "\n",
    "fig.tight_layout()\n",
    "\n",
    "print(f\"Saving to {config['variation_domain_schematic']}\")\n",
    "plt.savefig(config['variation_domain_schematic'])"
   ]
  },
  {
   "cell_type": "code",
   "execution_count": null,
   "metadata": {},
   "outputs": [],
   "source": []
  }
 ],
 "metadata": {
  "kernelspec": {
   "display_name": "Python 3",
   "language": "python",
   "name": "python3"
  },
  "language_info": {
   "codemirror_mode": {
    "name": "ipython",
    "version": 3
   },
   "file_extension": ".py",
   "mimetype": "text/x-python",
   "name": "python",
   "nbconvert_exporter": "python",
   "pygments_lexer": "ipython3",
   "version": "3.8.3"
  }
 },
 "nbformat": 4,
 "nbformat_minor": 4
}
