{
 "cells": [
  {
   "cell_type": "markdown",
   "metadata": {},
   "source": [
    "## Output PDB with Neff or entropy as B factors\n",
    "\n",
    "Want to color 229E spike based on site variability."
   ]
  },
  {
   "cell_type": "code",
   "execution_count": 1,
   "metadata": {},
   "outputs": [],
   "source": [
    "import collections\n",
    "import copy\n",
    "import os\n",
    "import warnings\n",
    "\n",
    "import Bio.PDB\n",
    "\n",
    "import dms_variants.pdb_utils\n",
    "\n",
    "from IPython.display import display, HTML\n",
    "\n",
    "import pandas as pd"
   ]
  },
  {
   "cell_type": "code",
   "execution_count": 2,
   "metadata": {},
   "outputs": [],
   "source": [
    "pdbs_dir = './results/pdbs/pdb_outputs'\n",
    "os.makedirs(pdbs_dir, exist_ok=True)"
   ]
  },
  {
   "cell_type": "code",
   "execution_count": 3,
   "metadata": {},
   "outputs": [],
   "source": [
    "site_var_df = pd.read_csv('./results/variation_analysis/site_variability.csv')"
   ]
  },
  {
   "cell_type": "code",
   "execution_count": 4,
   "metadata": {},
   "outputs": [
    {
     "data": {
      "text/html": [
       "<table border=\"1\" class=\"dataframe\">\n",
       "  <thead>\n",
       "    <tr style=\"text-align: right;\">\n",
       "      <th>site</th>\n",
       "      <th>label_site</th>\n",
       "      <th>wildtype</th>\n",
       "      <th>mutation</th>\n",
       "      <th>condition</th>\n",
       "      <th>protein_chain</th>\n",
       "      <th>protein_site</th>\n",
       "      <th>site_n_effective_amino_acids</th>\n",
       "      <th>site_entropy</th>\n",
       "      <th>mut_aa_frequency</th>\n",
       "    </tr>\n",
       "  </thead>\n",
       "  <tbody>\n",
       "    <tr>\n",
       "      <td>1</td>\n",
       "      <td>1</td>\n",
       "      <td>M</td>\n",
       "      <td>-</td>\n",
       "      <td>229E_alignment</td>\n",
       "      <td>A B C</td>\n",
       "      <td>NaN</td>\n",
       "      <td>1.0</td>\n",
       "      <td>0.0</td>\n",
       "      <td>0.0</td>\n",
       "    </tr>\n",
       "    <tr>\n",
       "      <td>1</td>\n",
       "      <td>1</td>\n",
       "      <td>M</td>\n",
       "      <td>A</td>\n",
       "      <td>229E_alignment</td>\n",
       "      <td>A B C</td>\n",
       "      <td>NaN</td>\n",
       "      <td>1.0</td>\n",
       "      <td>0.0</td>\n",
       "      <td>0.0</td>\n",
       "    </tr>\n",
       "    <tr>\n",
       "      <td>1</td>\n",
       "      <td>1</td>\n",
       "      <td>M</td>\n",
       "      <td>C</td>\n",
       "      <td>229E_alignment</td>\n",
       "      <td>A B C</td>\n",
       "      <td>NaN</td>\n",
       "      <td>1.0</td>\n",
       "      <td>0.0</td>\n",
       "      <td>0.0</td>\n",
       "    </tr>\n",
       "    <tr>\n",
       "      <td>1</td>\n",
       "      <td>1</td>\n",
       "      <td>M</td>\n",
       "      <td>D</td>\n",
       "      <td>229E_alignment</td>\n",
       "      <td>A B C</td>\n",
       "      <td>NaN</td>\n",
       "      <td>1.0</td>\n",
       "      <td>0.0</td>\n",
       "      <td>0.0</td>\n",
       "    </tr>\n",
       "    <tr>\n",
       "      <td>1</td>\n",
       "      <td>1</td>\n",
       "      <td>M</td>\n",
       "      <td>E</td>\n",
       "      <td>229E_alignment</td>\n",
       "      <td>A B C</td>\n",
       "      <td>NaN</td>\n",
       "      <td>1.0</td>\n",
       "      <td>0.0</td>\n",
       "      <td>0.0</td>\n",
       "    </tr>\n",
       "  </tbody>\n",
       "</table>"
      ],
      "text/plain": [
       "<IPython.core.display.HTML object>"
      ]
     },
     "metadata": {},
     "output_type": "display_data"
    }
   ],
   "source": [
    "display(HTML(site_var_df.head().to_html(index=False)))"
   ]
  },
  {
   "cell_type": "code",
   "execution_count": 5,
   "metadata": {},
   "outputs": [
    {
     "data": {
      "text/html": [
       "<table border=\"1\" class=\"dataframe\">\n",
       "  <thead>\n",
       "    <tr style=\"text-align: right;\">\n",
       "      <th>site</th>\n",
       "      <th>chain</th>\n",
       "      <th>metric</th>\n",
       "    </tr>\n",
       "  </thead>\n",
       "  <tbody>\n",
       "    <tr>\n",
       "      <td>1</td>\n",
       "      <td>A</td>\n",
       "      <td>0.0</td>\n",
       "    </tr>\n",
       "    <tr>\n",
       "      <td>2</td>\n",
       "      <td>A</td>\n",
       "      <td>0.0</td>\n",
       "    </tr>\n",
       "    <tr>\n",
       "      <td>3</td>\n",
       "      <td>A</td>\n",
       "      <td>0.0</td>\n",
       "    </tr>\n",
       "    <tr>\n",
       "      <td>4</td>\n",
       "      <td>A</td>\n",
       "      <td>0.0</td>\n",
       "    </tr>\n",
       "    <tr>\n",
       "      <td>5</td>\n",
       "      <td>A</td>\n",
       "      <td>0.0</td>\n",
       "    </tr>\n",
       "  </tbody>\n",
       "</table>"
      ],
      "text/plain": [
       "<IPython.core.display.HTML object>"
      ]
     },
     "metadata": {},
     "output_type": "display_data"
    }
   ],
   "source": [
    "entropy_df = site_var_df[['site', 'protein_chain', 'site_entropy']]\\\n",
    "                        .rename(columns={'protein_chain': 'chain', 'site_entropy': 'metric'})\\\n",
    "                        .drop_duplicates()\n",
    "for chain in entropy_df['chain'].iloc[0].split(' '):\n",
    "    entropy_df[chain] = entropy_df['metric']\n",
    "entropy_df.drop(['chain', 'metric'], axis=1, inplace=True)\n",
    "entropy_df = pd.melt(entropy_df, id_vars=['site'], var_name='chain', value_name='metric')\n",
    "display(HTML(entropy_df.head().to_html(index=False)))"
   ]
  },
  {
   "cell_type": "code",
   "execution_count": 6,
   "metadata": {},
   "outputs": [
    {
     "data": {
      "text/html": [
       "<table border=\"1\" class=\"dataframe\">\n",
       "  <thead>\n",
       "    <tr style=\"text-align: right;\">\n",
       "      <th>site</th>\n",
       "      <th>chain</th>\n",
       "      <th>metric</th>\n",
       "    </tr>\n",
       "  </thead>\n",
       "  <tbody>\n",
       "    <tr>\n",
       "      <td>1</td>\n",
       "      <td>A</td>\n",
       "      <td>1.0</td>\n",
       "    </tr>\n",
       "    <tr>\n",
       "      <td>2</td>\n",
       "      <td>A</td>\n",
       "      <td>1.0</td>\n",
       "    </tr>\n",
       "    <tr>\n",
       "      <td>3</td>\n",
       "      <td>A</td>\n",
       "      <td>1.0</td>\n",
       "    </tr>\n",
       "    <tr>\n",
       "      <td>4</td>\n",
       "      <td>A</td>\n",
       "      <td>1.0</td>\n",
       "    </tr>\n",
       "    <tr>\n",
       "      <td>5</td>\n",
       "      <td>A</td>\n",
       "      <td>1.0</td>\n",
       "    </tr>\n",
       "  </tbody>\n",
       "</table>"
      ],
      "text/plain": [
       "<IPython.core.display.HTML object>"
      ]
     },
     "metadata": {},
     "output_type": "display_data"
    },
    {
     "name": "stdout",
     "output_type": "stream",
     "text": [
      "[1.      1.19283 1.16417 2.50278 1.09234 1.34119 1.67306 1.5002  1.27086\n",
      " 2.26333 1.97323 2.14611 1.28929 1.40653 1.63434 1.40003 1.22899 1.63316\n",
      " 1.54676 1.71075 1.99231 1.72309 1.74624 2.25113 2.24356 2.09233 1.96936\n",
      " 2.10976 1.98494 1.45133 1.34612 2.55997 2.446   2.85293 1.96287 2.94529\n",
      " 1.97512 1.59107 2.13667]\n"
     ]
    }
   ],
   "source": [
    "neff_df = site_var_df[['site', 'protein_chain', 'site_n_effective_amino_acids']]\\\n",
    "                        .rename(columns={'protein_chain': 'chain', 'site_n_effective_amino_acids': 'metric'})\\\n",
    "                        .drop_duplicates()\n",
    "for chain in neff_df['chain'].iloc[0].split(' '):\n",
    "    neff_df[chain] = neff_df['metric']\n",
    "neff_df.drop(['chain', 'metric'], axis=1, inplace=True)\n",
    "neff_df = pd.melt(neff_df, id_vars=['site'], var_name='chain', value_name='metric')\n",
    "display(HTML(neff_df.head().to_html(index=False)))\n",
    "print(neff_df['metric'].unique())\n"
   ]
  },
  {
   "cell_type": "code",
   "execution_count": 7,
   "metadata": {},
   "outputs": [],
   "source": [
    "original_pdbfile = './results/pdbs/6u7h.pdb'\n",
    "reassigned_pdbfile_entropy = os.path.join(pdbs_dir, 'entropy_reassigned.pdb')\n",
    "entropy_missing_metric=-1\n",
    "dms_variants.pdb_utils.reassign_b_factor(input_pdbfile=original_pdbfile,\n",
    "                                         output_pdbfile=reassigned_pdbfile_entropy,\n",
    "                                         df=entropy_df,\n",
    "                                         metric_col='metric',\n",
    "                                         missing_metric=entropy_missing_metric)"
   ]
  },
  {
   "cell_type": "code",
   "execution_count": 8,
   "metadata": {},
   "outputs": [],
   "source": [
    "reassigned_pdbfile_neff = os.path.join(pdbs_dir, 'neff_reassigned.pdb')\n",
    "neff_missing_metric = 0\n",
    "dms_variants.pdb_utils.reassign_b_factor(input_pdbfile=original_pdbfile,\n",
    "                                         output_pdbfile=reassigned_pdbfile_neff,\n",
    "                                         df=neff_df,\n",
    "                                         metric_col='metric',\n",
    "                                         missing_metric=neff_missing_metric)"
   ]
  },
  {
   "cell_type": "code",
   "execution_count": null,
   "metadata": {},
   "outputs": [],
   "source": []
  }
 ],
 "metadata": {
  "kernelspec": {
   "display_name": "Python 3",
   "language": "python",
   "name": "python3"
  },
  "language_info": {
   "codemirror_mode": {
    "name": "ipython",
    "version": 3
   },
   "file_extension": ".py",
   "mimetype": "text/x-python",
   "name": "python",
   "nbconvert_exporter": "python",
   "pygments_lexer": "ipython3",
   "version": "3.8.5"
  }
 },
 "nbformat": 4,
 "nbformat_minor": 4
}
